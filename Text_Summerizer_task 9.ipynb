{
 "cells": [
  {
   "cell_type": "code",
   "execution_count": 1,
   "metadata": {},
   "outputs": [],
   "source": [
    "import numpy as np\n",
    "import pandas as pd\n",
    "from bs4 import BeautifulSoup\n",
    "import nltk\n",
    "import urllib.request\n",
    "from nltk.corpus import stopwords\n",
    "from nltk.tokenize import word_tokenize, sent_tokenize\n",
    "from string import punctuation\n",
    "from heapq import nlargest\n",
    "from collections import defaultdict"
   ]
  },
  {
   "cell_type": "code",
   "execution_count": 2,
   "metadata": {},
   "outputs": [
    {
     "name": "stderr",
     "output_type": "stream",
     "text": [
      "[nltk_data] Downloading package stopwords to C:\\Users\\user.DESKTOP-\n",
      "[nltk_data]     DGMLV2O\\AppData\\Roaming\\nltk_data...\n",
      "[nltk_data]   Unzipping corpora\\stopwords.zip.\n",
      "[nltk_data] Downloading package punkt to C:\\Users\\user.DESKTOP-\n",
      "[nltk_data]     DGMLV2O\\AppData\\Roaming\\nltk_data...\n",
      "[nltk_data]   Package punkt is already up-to-date!\n"
     ]
    },
    {
     "data": {
      "text/plain": [
       "True"
      ]
     },
     "execution_count": 2,
     "metadata": {},
     "output_type": "execute_result"
    }
   ],
   "source": [
    "#Downloading the stopwords package\n",
    "nltk.download('stopwords')\n",
    "nltk.download('punkt')"
   ]
  },
  {
   "cell_type": "code",
   "execution_count": 3,
   "metadata": {},
   "outputs": [],
   "source": [
    "# Scrapping Data from Lucid blog On Time with Chibuike Osita\n",
    "def read_content():\n",
    "    url=\"https://lucid.blog/hngi6/post/qa-with-chibuike-osita-49e\"\n",
    "    requested_url = urllib.request.urlopen(url).read().decode('utf8','ignore')\n",
    "    soup= BeautifulSoup(requested_url, 'html.parser')\n",
    "    return soup\n"
   ]
  },
  {
   "cell_type": "code",
   "execution_count": 5,
   "metadata": {},
   "outputs": [
    {
     "name": "stdout",
     "output_type": "stream",
     "text": [
      "[\"but the school (futo) didn't teach what i was expecting, so i started actively training myself, right around the first year.i started with c++, one 1 hour everyday for a year, and then java before getting into web developmenti wouldn't recommend this route though, all it did for me was to give me some grounded understanding.if there was anything i would have done differently,- i would have focused on learning more about what the languages themselves could be used for- focused more on design patterns- mastering singular technologiesthe key is to know exactly what you want from your career as a developer and what it would mean for you.\", \"for example, because of my enthusiasm, i learned different languages, some of which i didn't use at all (e.g c++), i did get to learn design patterns later, but i always felt i should have started somewhere around there in order to understand the bigger picture.singular technologies are all things related to a singular language and it's frameworks, it's everything that concerns the language you are working on, e.g php and laravel, if you know php, master it and master laravel , so everything concerning it as a language and its framework is in your circle of control and understanding.at the end though, i'm happy about my path, but if you follow the key points, you'll likely get to your ideas faster.before i end this sections (why i became a developer) though, just have the following in mind.- don't just follow buzzwords, at the end, all of these technologies are the same.- and the simplest solution or language to understand and use is most likely the best for you (occam's razor)- focus on the essentials, (is it understandable, does it work, how soon can i get up and running)the essentials may be different for you, but always keep them in mind.what i learnt from the internshipthe internship started when i just finished my second year in school, the third semester was just beginning, we were more than a thousand, and i really loved it15:32before then i had known only a few other developers, but with the internship, i mad a new opportunity to meet some really ingenious people.\", \"we collaborated, fought argued and learnt together and it made me understand the following points.-\\xa0a team would only work if it's members are working\\xa0-\\xa0the leader of the team understand the problem, before the members can get to work-\\xa0a team needs a leader-\\xa0consequences are important to maintain order and structure\\xa0-\\xa0in the end, the team is the most important thing, not winning, after them winning is the most important thing-\\xa0understand what is required to win, then do it +1becoming a product creatorwriting code is different from creating products, and that's why it may be difficult to understand what a product creator is.a product creator is simply a person who has understood that code is not all it takes to build a good product.coding is the easier thing to do, and having been developing for 4+ years, it's still hard to accept, but must be accepted.when you have an idea and you want to have it become a product, it's important to understand the following.-\\xa0what problem am i trying to solve-\\xa0who are the users (remember this is not the whole world, it's just a very few people)-\\xa0why would they use it-\\xa0what is the most important thing it is supposed to do\\xa0- this is what you map (minimum awesome product) is, only that most important thingthe questions you should avoid early on are questions like15:46- what language should i use?- is angular better than react for this?- etc\\xa0i hope you know what i mean.most products today are not going to be mvps anymore if you are going to build something make it awesome, it's the very first version.\", \"this is quite simple, i created legohackers with the intention to help other developers graduate from just being coders, into product creators, it's being a bit rough, in its growth because i'm learning as i improve it and i'm getting to know more about the users the more it grows and runs.fun facts, most people don't build products simply because they don't find themselves in scenarios where they are to build products, and usually, this is because they may only know one of the skills they need to work with, and they may need help from others who are interested in the idea.so in the last few weeks, i took legohackers offline, to deliberate on some ideas for the platform and what i intend to do about that problem.\", \"(edited)\\xa0legohackers, would be extended into possibly\\xa0the first online hackathon platform focused on product creation.every week/month depending on their ranking, developers would be divided into teams, with the aim of building products to solve certain problems, keep in mind products, so its not just about solving the problems but also about its\\xa0design,usability,\\xa0performance,\\xa0seo,\\xa0qualityproduct would be judged by the community and the highest-ranking can get prices and even take their products to market if they want to, cause the problems we would target would be real problems.that's just what i'm thinking.things to focus on to improve your skills\\xa0so let improve our skills, what do we need to do.we can start with the following.-\\xa0become an essentialist\\xa0- do one thing at a time, and master ( truely master ) one thing at a time, we are in a field that allows us to be smart and lazy, make good use of that opportunity-\\xa0don't rush\\xa0- be it your process, your techniques, your project, and everything, don't rush yourself, plan well, and execute your plans, this is really important, the more you attempt to plan well, you get better at it and soon you wouldn't need to worry much about how you are doing, cause you would naturally go upwards.-\\xa0know your destination, avoid hype or think well about it\\xa0- i can say this because i fell for hype a lot, trust me, hype is both good and bad, but understand when it's real for you, and don't just jump in because others are doing it.-\\xa0create buffers for yourself in everything\\xa0- buffers are extra room for yourself to gain control, be it as you are thinking or as you are working, or as you need more time, buffers are important, especially with time, we humans are ridiculously bad with estimating how much time things take, 2 hours tasks can take 4, and that's why buffers are important.-\\xa0when you work or study, work or study / when you are playing, don't worry about work\\xa0- nothing else, it's an ethic that would get you far.\", \"but i used tools where important, you cannot kill yourself.q: i feel pulled in too many directions, i dont know which language to focus ona: start with the one you found easier to understand, but first of all read about the languages, not the languages themselves, to learn what the creators were thinking of when they created them, then you'd know if you really want to learn that language.q: many thanks for taking out\\xa0\\xa0time to talk to us.\", 'so i used bootstrap for the platform, also i frequently create boiler plate projects which i use to start other projects, you can find them on githubq: you made mention of concentrating in one language, what if you are building a product and the language you know is not sufficient enough to build that product, what do you do?a: building a full product alone takes time and some very real focus.', \"that would allow me do both the frontend and the back end with ease (javascript\\xa0), i need to build a good frontend and i would need good templates for it (\\xa0www.creative-tim.com\\xa0, the dude creates reusable templates in their hundreds )q: does it mean i can not become full-stack,in terms of mastering one thing?a:\\xa0it's one at a time, you can get there, but make it easy for yourself, if you know javascript for frontend, you can easily learn node, and if you know node, you'll likely understand rest, and the design patterns that come along, e.g mvc, class first systems etc, if you know design patterns, you'll likely be able to understand what php, c# or golang is used for, and can go ahead to learn any of them if you what to.it's a step by step process, and if you want to get there you can, more easily if you\\xa0master one at a timeq: also if you are in a collaborative project and the language of the group is quite different from the one you know what do you do?\", \"no one want's that guy that says i can do it, then takes one month, because he was reading docs.a: becoming a product developer drove me into coding...\\xa0\\xa0how much of the language do i have to learn to finally kickoffstanding in front of judges to pitch my product had shot me to different areaswhat do i really focus on, and does design pattern really mean?a: you don't need to know too much, just enough to start working on your ideas, you can master the rest as you move on, when pitching your ideas, it's about the key points, what exactly they need to know.\", 'and then we become defunct in our thinking and understanding, of the topic, we start feeling sad, and something new comes up and we start the cycle again, what if we just stop, and look at one thing and go like, okay i think i need this thing, and learn only that thing and use it for a year, (your time limit, before you leave anything to learn something else), if you do well, you would have mastered something enough to go for the second year and then the third, while picking up other important things in the process.']\n",
      "None\n"
     ]
    }
   ],
   "source": [
    "# function to target only tag <p>\n",
    "def find_all_text():\n",
    "    text_p = read_content().find_all('p')\n",
    "    text =''\n",
    "    for i in range(0,len(text_p)):\n",
    "        text += text_p[i].text\n",
    "        text = text.lower()\n",
    "    # tokenize the text\n",
    "    tokens =[t for t in text.split()]\n",
    "    clean_token =tokens[:]\n",
    "    #define irrelevant words that include stop words , punctuations and numbers\n",
    "    stopword = set(stopwords.words('english') + list(punctuation))\n",
    "    for token in tokens:\n",
    "        if token in stopword:\n",
    "            clean_token.remove(token)\n",
    "    freq = nltk.FreqDist(clean_token)\n",
    "    top_words=[]\n",
    "    top_words=freq.most_common(100)\n",
    "    sentences = sent_tokenize(text)\n",
    "    #Iterating through all the sentences from the web to create a ranking for each sentence\n",
    "\n",
    "    ranking = defaultdict(int)\n",
    "    for i, sent in enumerate(sentences):\n",
    "        for word in word_tokenize(sent.lower()):\n",
    "            if word in freq:\n",
    "                ranking[i]+=freq[word]\n",
    "        top_sentences = nlargest(10, ranking, ranking.get)\n",
    "    #Sorting all sentences\n",
    "    sorted_sentences = [sentences[j] for j in sorted(top_sentences)]\n",
    "    print(sorted_sentences)\n",
    "    with open('sorted_sentences.txt', 'w') as f:\n",
    "        for i in sorted_sentences:\n",
    "            f.write(i+\"\\n\")\n",
    "\n",
    "\n",
    "print (find_all_text())"
   ]
  },
  {
   "cell_type": "code",
   "execution_count": null,
   "metadata": {},
   "outputs": [],
   "source": []
  },
  {
   "cell_type": "code",
   "execution_count": null,
   "metadata": {},
   "outputs": [],
   "source": []
  }
 ],
 "metadata": {
  "kernelspec": {
   "display_name": "Python 3",
   "language": "python",
   "name": "python3"
  },
  "language_info": {
   "codemirror_mode": {
    "name": "ipython",
    "version": 3
   },
   "file_extension": ".py",
   "mimetype": "text/x-python",
   "name": "python",
   "nbconvert_exporter": "python",
   "pygments_lexer": "ipython3",
   "version": "3.7.3"
  }
 },
 "nbformat": 4,
 "nbformat_minor": 2
}
